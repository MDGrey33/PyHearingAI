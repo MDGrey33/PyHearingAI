{
 "cells": [
  {
   "cell_type": "code",
   "execution_count": 6,
   "metadata": {},
   "outputs": [
    {
     "name": "stdout",
     "output_type": "stream",
     "text": [
      "/home/alex/Python/eagle-foods-ai/backend\n",
      "****************************************************************************************************\n",
      "resp_67d3b23c60208192aa469a128191f612037e00826919d0e3\n",
      "This image shows a package of G.H. Cretors Cheddar Cheese flavored popped corn. The packaging highlights that it contains real cheddar cheese, no artificial preservatives, and is 100 calories per cup.\n",
      "****************************************************************************************************\n",
      "ResponseUsage(input_tokens=1394, output_tokens=42, output_tokens_details=OutputTokensDetails(reasoning_tokens=0), total_tokens=1436, input_tokens_details={'cached_tokens': 0})\n"
     ]
    }
   ],
   "source": [
    "%cd /home/alex/Python/eagle-foods-ai/backend\n",
    "\n",
    "from dotenv import load_dotenv\n",
    "\n",
    "load_dotenv()\n",
    "import base64\n",
    "\n",
    "from openai import OpenAI\n",
    "\n",
    "client = OpenAI()\n",
    "\n",
    "image_path = \"/home/alex/Python/eagle-foods-ai/backend/temp/cheddar-chesse.png\"\n",
    "with open(image_path, \"rb\") as image_file:\n",
    "    base64_image = base64.b64encode(image_file.read()).decode(\"utf-8\")\n",
    "    \n",
    "image2_path = \"/home/alex/Python/eagle-foods-ai/backend/temp/Cretors_Caramel.webp\"\n",
    "with open(image2_path, \"rb\") as image_file:\n",
    "    base64_image2 = base64.b64encode(image_file.read()).decode(\"utf-8\")\n",
    "\n",
    "\n",
    "\n",
    "response = client.responses.create(\n",
    "    model=\"gpt-4o\",\n",
    "    previous_response_id=None,\n",
    "    input=[\n",
    "        {\n",
    "            \"role\": \"user\",\n",
    "            \"content\": [\n",
    "                {\n",
    "                    \"type\": \"input_text\",\n",
    "                    \"text\": \"The name of the image file is 'cheddar-chesse.png'. The ID is 'file-abc123'. Do not an]\"\n",
    "                },\n",
    "                {\n",
    "                    \"type\": \"input_image\",\n",
    "                    \"image_url\": f\"data:image/jpeg;base64,{base64_image}\",\n",
    "                    \"detail\": \"auto\"\n",
    "                }\n",
    "            ]\n",
    "        },\n",
    "\n",
    "\n",
    "    ],\n",
    "    store=True\n",
    ")\n",
    "response_id = response.id\n",
    "output = response.output_text\n",
    "\n",
    "print(f\"*\" * 100)\n",
    "print(response_id)\n",
    "print(output)\n",
    "print(f\"*\" * 100)\n",
    "print(response.usage)"
   ]
  },
  {
   "cell_type": "code",
   "execution_count": 27,
   "metadata": {},
   "outputs": [
    {
     "name": "stdout",
     "output_type": "stream",
     "text": [
      "****************************************************************************************************\n",
      "resp_67d139a2cb70819286258bbaa8dd8ba6011476aa2cd3739c\n",
      "Certainly! Here are the filenames and IDs:\n",
      "\n",
      "1. Filename: `cheddar-chesse.png`, ID: `file-abc123`\n",
      "2. Filename: `Cretors_Caramel.webp`, ID: `file-xyz`\n",
      "****************************************************************************************************\n"
     ]
    }
   ],
   "source": [
    "response = client.responses.create(\n",
    "    model=\"gpt-4o\",\n",
    "    previous_response_id=response_id,\n",
    "    input=[\n",
    "        {\n",
    "            \"role\": \"user\",\n",
    "            \"content\": [\n",
    "                {\"type\": \"input_text\", \"text\": \"Can return to me a list of filenames and IDs of the uploaded images?\"}\n",
    "            ],\n",
    "        },\n",
    "    ],\n",
    "    store=True,\n",
    ")\n",
    "new_response_id = response.id\n",
    "new_output = response.output_text\n",
    "\n",
    "print(f\"*\" * 100)\n",
    "print(new_response_id)\n",
    "print(new_output)\n",
    "print(f\"*\" * 100)"
   ]
  },
  {
   "cell_type": "code",
   "execution_count": 18,
   "metadata": {},
   "outputs": [
    {
     "name": "stdout",
     "output_type": "stream",
     "text": [
      "****************************************************************************************************\n",
      "resp_67d1326fc57081928b84a4d0bc5d06d8063bba15993c81ff\n",
      "The previous image featured G.H. Cretors Cheddar Cheese Popcorn, while this image shows G.H. Cretors Caramel Popcorn. Both are handcrafted and small-batch, with real ingredients and no artificial colors, flavors, or preservatives. The primary difference is the flavor: one is savory with cheddar cheese, and the other is sweet with caramel.\n",
      "****************************************************************************************************\n"
     ]
    }
   ],
   "source": [
    "image2_path = \"/home/alex/Python/eagle-foods-ai/backend/temp/Cretors_Caramel.webp\"\n",
    "with open(image2_path, \"rb\") as image_file:\n",
    "    base64_image2 = base64.b64encode(image_file.read()).decode(\"utf-8\")\n",
    "\n",
    "\n",
    "response = client.responses.create(\n",
    "    model=\"gpt-4o\",\n",
    "    previous_response_id=new_response_id,\n",
    "    input=[\n",
    "        {\n",
    "            \"role\": \"user\",\n",
    "            \"content\": [\n",
    "                {\"type\": \"input_text\", \"text\": \"Can you compare it with the previous image?\"},\n",
    "                {\n",
    "                    \"type\": \"input_image\",\n",
    "                    \"image_url\": f\"data:image/jpeg;base64,{base64_image2}\",\n",
    "                }\n",
    "            ],\n",
    "        },\n",
    "    ],\n",
    "    tools=[],\n",
    "    store=True,\n",
    ")\n",
    "new2_response_id = response.id\n",
    "new2_output = response.output_text\n",
    "\n",
    "print(f\"*\" * 100)\n",
    "print(new2_response_id)\n",
    "print(new2_output)\n",
    "print(f\"*\" * 100)"
   ]
  },
  {
   "cell_type": "code",
   "execution_count": null,
   "metadata": {},
   "outputs": [],
   "source": []
  }
 ],
 "metadata": {
  "kernelspec": {
   "display_name": ".venv",
   "language": "python",
   "name": "python3"
  },
  "language_info": {
   "codemirror_mode": {
    "name": "ipython",
    "version": 3
   },
   "file_extension": ".py",
   "mimetype": "text/x-python",
   "name": "python",
   "nbconvert_exporter": "python",
   "pygments_lexer": "ipython3",
   "version": "3.12.2"
  }
 },
 "nbformat": 4,
 "nbformat_minor": 2
}
